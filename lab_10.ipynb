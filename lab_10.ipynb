{
 "cells": [
  {
   "cell_type": "code",
   "execution_count": 1,
   "id": "5b7f5201-3f66-41de-9087-7f48c6df4557",
   "metadata": {},
   "outputs": [
    {
     "name": "stderr",
     "output_type": "stream",
     "text": [
      "Setting default log level to \"WARN\".\n",
      "To adjust logging level use sc.setLogLevel(newLevel). For SparkR, use setLogLevel(newLevel).\n",
      "24/12/22 12:48:00 WARN NativeCodeLoader: Unable to load native-hadoop library for your platform... using builtin-java classes where applicable\n",
      "24/12/22 12:48:00 WARN Utils: Service 'SparkUI' could not bind on port 4040. Attempting port 4041.\n"
     ]
    }
   ],
   "source": [
    "from pyspark.sql import SparkSession\n",
    "import findspark\n",
    "from pyspark.ml.feature import StringIndexer, OneHotEncoder, VectorAssembler, StandardScaler\n",
    "from pyspark.ml.regression import LinearRegression\n",
    "from pyspark.ml.evaluation import RegressionEvaluator\n",
    "\n",
    "findspark.init()\n",
    "spark = SparkSession.builder \\\n",
    "    .master(\"local[*]\") \\\n",
    "    .appName(\"Otodom Regression\") \\\n",
    "    .getOrCreate()\n"
   ]
  },
  {
   "cell_type": "code",
   "execution_count": 2,
   "id": "7e059007-22f2-43d9-bd23-13cf5c65f582",
   "metadata": {},
   "outputs": [
    {
     "name": "stdout",
     "output_type": "stream",
     "text": [
      "+--------------------+---------+--------------------+-------+---------------+------+-------------------+--------+--------------------+----------------------+--------------------+------------------+-------------------+\n",
      "|               Title|    Price|            Location|Surface|Number_of_Rooms| Floor|Finishing_Condition| Heating|       Parking_Space|Balcony_Garden_Terrace|                Link|       Voivodeship|               City|\n",
      "+--------------------+---------+--------------------+-------+---------------+------+-------------------+--------+--------------------+----------------------+--------------------+------------------+-------------------+\n",
      "|2 pokoje 47m2 po ...| 415000.0|ul. Marysińska, S...|   47.0|             2 |  NULL|    do zamieszkania|miejskie|garaż/miejsce par...|                balkon|https://www.otodo...|           Łódzkie|               Łódź|\n",
      "|Właściciel- Ludwi...|2499000.0|ul. Ludwiki, Czys...|  105.0|             4 |   2/8|     do wykończenia|miejskie|garaż/miejsce par...|                balkon|https://www.otodo...|       Mazowieckie|           Warszawa|\n",
      "|Sprzedam mieszkan...| 649000.0|ul. Londyńska, Go...|   60.0|             3 |   4/4|    do zamieszkania|miejskie|                NULL|         balkon, taras|https://www.otodo...|          Lubuskie|Gorzów Wielkopolski|\n",
      "|Wyjątkowy, duży a...|2108000.0|Mrzeżyno, Trzebia...|   78.3|             3 |   4/4|     do wykończenia|    NULL|garaż/miejsce par...|                  NULL|https://www.otodo...|Zachodniopomorskie|           gryficki|\n",
      "|2/3-pok. 49,2 m2 ...| 450180.0|ul. Bartosza Głow...|   49.2|             2 |   2/3|    do zamieszkania|miejskie|garaż/miejsce par...|                balkon|https://www.otodo...|Zachodniopomorskie|           Koszalin|\n",
      "|Zgierz, 60,03m2, ...| 350000.0|Zgierz, zgierski,...|  60.03|             3 |parter|               NULL|    NULL|                NULL|                  NULL|https://www.otodo...|           Łódzkie|           zgierski|\n",
      "|3 pokojowe Białogard| 220000.0|ul. Zamoyskiego, ...|   48.4|             3 |   4/4|         do remontu|miejskie|                NULL|                balkon|https://www.otodo...|Zachodniopomorskie|       białogardzki|\n",
      "+--------------------+---------+--------------------+-------+---------------+------+-------------------+--------+--------------------+----------------------+--------------------+------------------+-------------------+\n",
      "only showing top 7 rows\n",
      "\n"
     ]
    }
   ],
   "source": [
    "data_path = \"Otodom_Flat_Listings.csv\"\n",
    "df = spark.read.csv(data_path, header=True, inferSchema=True)\n",
    "\n",
    "df.show(7)"
   ]
  },
  {
   "cell_type": "code",
   "execution_count": 3,
   "id": "c5068540-5d9c-44fb-a44d-50750f0af154",
   "metadata": {},
   "outputs": [
    {
     "name": "stdout",
     "output_type": "stream",
     "text": [
      "root\n",
      " |-- Title: string (nullable = true)\n",
      " |-- Price: double (nullable = true)\n",
      " |-- Location: string (nullable = true)\n",
      " |-- Surface: string (nullable = true)\n",
      " |-- Number_of_Rooms: string (nullable = true)\n",
      " |-- Floor: string (nullable = true)\n",
      " |-- Finishing_Condition: string (nullable = true)\n",
      " |-- Heating: string (nullable = true)\n",
      " |-- Parking_Space: string (nullable = true)\n",
      " |-- Balcony_Garden_Terrace: string (nullable = true)\n",
      " |-- Link: string (nullable = true)\n",
      " |-- Voivodeship: string (nullable = true)\n",
      " |-- City: string (nullable = true)\n",
      "\n"
     ]
    }
   ],
   "source": [
    "df.printSchema()"
   ]
  },
  {
   "cell_type": "code",
   "execution_count": 4,
   "id": "265a8ee4-5e0e-47d4-b188-29f68681915a",
   "metadata": {},
   "outputs": [],
   "source": [
    "indexer_location = StringIndexer(inputCol=\"Location\", outputCol=\"Location_indexed\", handleInvalid='skip')\n",
    "indexer_voivodeship = StringIndexer(inputCol=\"Voivodeship\", outputCol=\"Voivodeship_indexed\", handleInvalid='skip')\n",
    "indexer_city = StringIndexer(inputCol=\"City\", outputCol=\"City_indexed\", handleInvalid='skip')\n",
    "indexer_condition = StringIndexer(inputCol=\"Finishing_Condition\", outputCol=\"Finishing_Condition_indexed\", handleInvalid='skip')"
   ]
  },
  {
   "cell_type": "code",
   "execution_count": 5,
   "id": "c67ddd12-476d-47ec-aa04-4079aa2b6fb5",
   "metadata": {},
   "outputs": [],
   "source": [
    "df_indexed = indexer_location.fit(df).transform(df)\n",
    "df_indexed = indexer_voivodeship.fit(df_indexed).transform(df_indexed)\n",
    "df_indexed = indexer_city.fit(df_indexed).transform(df_indexed)\n",
    "df_indexed = indexer_condition.fit(df_indexed).transform(df_indexed)"
   ]
  },
  {
   "cell_type": "code",
   "execution_count": 6,
   "id": "2830f427-e15e-4648-852b-af95892cc073",
   "metadata": {},
   "outputs": [],
   "source": [
    "encoder_location = OneHotEncoder(inputCol=\"Location_indexed\", outputCol=\"Location_onehot\")\n",
    "encoder_voivodeship = OneHotEncoder(inputCol=\"Voivodeship_indexed\", outputCol=\"Voivodeship_onehot\")\n",
    "encoder_city = OneHotEncoder(inputCol=\"City_indexed\", outputCol=\"City_onehot\")\n",
    "encoder_condition = OneHotEncoder(inputCol=\"Finishing_Condition_indexed\", outputCol=\"Condition_onehot\")"
   ]
  },
  {
   "cell_type": "code",
   "execution_count": 7,
   "id": "0ddb8bd6-a237-468e-8261-17d430facb43",
   "metadata": {},
   "outputs": [],
   "source": [
    "df_encoded = encoder_location.fit(df_indexed).transform(df_indexed)\n",
    "df_encoded = encoder_voivodeship.fit(df_encoded).transform(df_encoded)\n",
    "df_encoded = encoder_city.fit(df_encoded).transform(df_encoded)\n",
    "df_encoded = encoder_condition.fit(df_encoded).transform(df_encoded)"
   ]
  },
  {
   "cell_type": "code",
   "execution_count": 8,
   "id": "e9700728-c861-4d6c-80dd-7f64d50f25cc",
   "metadata": {},
   "outputs": [],
   "source": [
    "from pyspark.sql.functions import when, col, split, log\n",
    "\n",
    "df_selected = df_encoded.select(\"Price\", \"Surface\", \"Number_of_Rooms\", \"Floor\", \"Location_onehot\", \n",
    "                               \"Voivodeship_onehot\", \"City_onehot\", \"Condition_onehot\")\n",
    "\n",
    "df_processed = df_selected.withColumn(\n",
    "    \"Floor\",\n",
    "    when(col(\"Floor\").isNotNull(), split(col(\"Floor\"), \"/\")[0].cast(\"double\")).otherwise(None)\n",
    ")\n",
    "\n",
    "df_processed = df_processed.withColumn(\"Surface\", col(\"Surface\").cast(\"double\"))\n",
    "df_processed = df_processed.withColumn(\"Number_of_Rooms\", col(\"Number_of_Rooms\").cast(\"double\"))\n",
    "\n",
    "df_processed = df_processed.dropna(subset=[\"Floor\", \"Surface\", \"Number_of_Rooms\", \"Location_onehot\", \"Price\"])"
   ]
  },
  {
   "cell_type": "code",
   "execution_count": 9,
   "id": "94c9293a-196c-41da-a31c-557a77e07d06",
   "metadata": {},
   "outputs": [
    {
     "name": "stdout",
     "output_type": "stream",
     "text": [
      "+---------+-------+---------------+-----+-------------------+------------------+-----------------+----------------+------------------+\n",
      "|    Price|Surface|Number_of_Rooms|Floor|    Location_onehot|Voivodeship_onehot|      City_onehot|Condition_onehot|         Log_Price|\n",
      "+---------+-------+---------------+-----+-------------------+------------------+-----------------+----------------+------------------+\n",
      "|2499000.0|  105.0|            4.0|  2.0| (1849,[390],[1.0])|    (15,[0],[1.0])|  (235,[0],[1.0])|   (2,[1],[1.0])| 14.73140120981709|\n",
      "| 649000.0|   60.0|            3.0|  4.0| (1849,[387],[1.0])|   (15,[13],[1.0])| (235,[51],[1.0])|   (2,[0],[1.0])|13.383187995686226|\n",
      "|2108000.0|   78.3|            3.0|  4.0| (1849,[655],[1.0])|    (15,[7],[1.0])| (235,[90],[1.0])|   (2,[1],[1.0])| 14.56125018864339|\n",
      "| 450180.0|   49.2|            2.0|  2.0| (1849,[964],[1.0])|    (15,[7],[1.0])| (235,[19],[1.0])|   (2,[0],[1.0])| 13.01740278176783|\n",
      "| 220000.0|   48.4|            3.0|  4.0|(1849,[1737],[1.0])|    (15,[7],[1.0])|(235,[169],[1.0])|       (2,[],[])|12.301382825334498|\n",
      "+---------+-------+---------------+-----+-------------------+------------------+-----------------+----------------+------------------+\n",
      "only showing top 5 rows\n",
      "\n"
     ]
    }
   ],
   "source": [
    "df_processed = df_processed.withColumn(\"Log_Price\", log(col(\"Price\")))\n",
    "df_processed.show(5)"
   ]
  },
  {
   "cell_type": "code",
   "execution_count": 10,
   "id": "842c7110-93a0-4256-90fc-75cbc996eb83",
   "metadata": {},
   "outputs": [
    {
     "name": "stdout",
     "output_type": "stream",
     "text": [
      "+---------+-------+---------------+-----+-------------------+------------------+-----------------+----------------+------------------+--------------------+\n",
      "|    Price|Surface|Number_of_Rooms|Floor|    Location_onehot|Voivodeship_onehot|      City_onehot|Condition_onehot|         Log_Price|            features|\n",
      "+---------+-------+---------------+-----+-------------------+------------------+-----------------+----------------+------------------+--------------------+\n",
      "|2499000.0|  105.0|            4.0|  2.0| (1849,[390],[1.0])|    (15,[0],[1.0])|  (235,[0],[1.0])|   (2,[1],[1.0])| 14.73140120981709|(2104,[0,1,2,393,...|\n",
      "| 649000.0|   60.0|            3.0|  4.0| (1849,[387],[1.0])|   (15,[13],[1.0])| (235,[51],[1.0])|   (2,[0],[1.0])|13.383187995686226|(2104,[0,1,2,390,...|\n",
      "|2108000.0|   78.3|            3.0|  4.0| (1849,[655],[1.0])|    (15,[7],[1.0])| (235,[90],[1.0])|   (2,[1],[1.0])| 14.56125018864339|(2104,[0,1,2,658,...|\n",
      "| 450180.0|   49.2|            2.0|  2.0| (1849,[964],[1.0])|    (15,[7],[1.0])| (235,[19],[1.0])|   (2,[0],[1.0])| 13.01740278176783|(2104,[0,1,2,967,...|\n",
      "| 220000.0|   48.4|            3.0|  4.0|(1849,[1737],[1.0])|    (15,[7],[1.0])|(235,[169],[1.0])|       (2,[],[])|12.301382825334498|(2104,[0,1,2,1740...|\n",
      "+---------+-------+---------------+-----+-------------------+------------------+-----------------+----------------+------------------+--------------------+\n",
      "only showing top 5 rows\n",
      "\n"
     ]
    }
   ],
   "source": [
    "assembler = VectorAssembler(inputCols=[\"Surface\", \"Number_of_Rooms\", \"Floor\", \n",
    "                                       \"Location_onehot\", \"Voivodeship_onehot\", \n",
    "                                       \"City_onehot\", \"Condition_onehot\"], outputCol=\"features\")\n",
    "df_processed = assembler.transform(df_processed)\n",
    "df_processed.show(5)"
   ]
  },
  {
   "cell_type": "code",
   "execution_count": 11,
   "id": "769e4656-e417-4a16-93ac-202d92586199",
   "metadata": {},
   "outputs": [],
   "source": [
    "import pyspark.sql.functions as F\n",
    "\n",
    "def run_experiment(features, df_processed):\n",
    "    if 'features' in df_processed.columns:\n",
    "        df_processed = df_processed.drop('features')\n",
    "\n",
    "    assembler = VectorAssembler(inputCols=features, outputCol=\"features\")\n",
    "    df_experiment = assembler.transform(df_processed)\n",
    "\n",
    "    train_data, test_data = df_experiment.randomSplit([0.8, 0.2], seed=1234)\n",
    "\n",
    "    lr = LinearRegression(featuresCol=\"features\", labelCol=\"Log_Price\", regParam=0.1)\n",
    "\n",
    "    lrModel = lr.fit(train_data)\n",
    "\n",
    "    predictions = lrModel.transform(test_data)\n",
    "\n",
    "    predictions = predictions.withColumn(\"predicted_price\", F.exp(predictions[\"prediction\"]))\n",
    "\n",
    "    predictions = predictions.withColumn(\"actual_price\", F.exp(predictions[\"Log_Price\"]))\n",
    "\n",
    "    evaluator_rmse = RegressionEvaluator(labelCol=\"Price\", predictionCol=\"predicted_price\", metricName=\"rmse\")\n",
    "    evaluator_r2 = RegressionEvaluator(labelCol=\"Price\", predictionCol=\"predicted_price\", metricName=\"r2\")\n",
    "    evaluator_mse = RegressionEvaluator(labelCol=\"Price\", predictionCol=\"predicted_price\", metricName=\"mse\")\n",
    "    \n",
    "    rmse = evaluator_rmse.evaluate(predictions)\n",
    "    r2 = evaluator_r2.evaluate(predictions)\n",
    "    mse = evaluator_mse.evaluate(predictions)\n",
    "\n",
    "    return {\"features\": features, \"RMSE\": rmse, \"R2\": r2, \"MSE\": mse, \"predictions\": predictions}"
   ]
  },
  {
   "cell_type": "code",
   "execution_count": 12,
   "id": "01d5ee07-a7d0-49f4-b24c-026dfc68b4a7",
   "metadata": {},
   "outputs": [
    {
     "name": "stderr",
     "output_type": "stream",
     "text": [
      "24/12/22 12:48:07 WARN InstanceBuilder: Failed to load implementation from:dev.ludovic.netlib.blas.JNIBLAS\n",
      "24/12/22 12:48:07 WARN InstanceBuilder: Failed to load implementation from:dev.ludovic.netlib.blas.VectorBLAS\n",
      "24/12/22 12:48:07 WARN InstanceBuilder: Failed to load implementation from:dev.ludovic.netlib.lapack.JNILAPACK\n"
     ]
    }
   ],
   "source": [
    "experiments = [\n",
    "    [\"Surface\", \"Number_of_Rooms\", \"Floor\"],\n",
    "    [\"Surface\", \"Number_of_Rooms\", \"Floor\", \"Location_onehot\"],\n",
    "    [\"Surface\", \"Number_of_Rooms\", \"Floor\", \"Location_onehot\", \"Voivodeship_onehot\"],\n",
    "    [\"Surface\", \"Number_of_Rooms\", \"Floor\", \"Location_onehot\", \"Voivodeship_onehot\", \"City_onehot\"],\n",
    "    [\"Surface\", \"Number_of_Rooms\", \"Floor\", \"Location_onehot\", \"Voivodeship_onehot\", \"City_onehot\", \"Condition_onehot\"]\n",
    "]\n",
    "\n",
    "results = []\n",
    "for exp in experiments:\n",
    "    result = run_experiment(exp, df_processed)\n",
    "    results.append(result)"
   ]
  },
  {
   "cell_type": "code",
   "execution_count": 13,
   "id": "d4f16da6-4950-4b35-9fa7-24987f7c2918",
   "metadata": {},
   "outputs": [
    {
     "name": "stdout",
     "output_type": "stream",
     "text": [
      "Zestaw cech: ['Surface', 'Number_of_Rooms', 'Floor']\n",
      "RMSE: 9095680.037142925, R2: 0.0019193969553040757, MSE: 82731395338080.33\n",
      "Przykładowe przewidywania (faktyczna vs przewidywana cena):\n",
      "+------------------+------------------+\n",
      "|      actual_price|   predicted_price|\n",
      "+------------------+------------------+\n",
      "| 99000.00000000006| 466742.6982482966|\n",
      "|117300.00000000009|448136.15557321196|\n",
      "|178999.99999999994| 410955.0548019228|\n",
      "|183000.00000000003|492830.50377878436|\n",
      "|185000.00000000006| 365930.8274557564|\n",
      "+------------------+------------------+\n",
      "only showing top 5 rows\n",
      "\n",
      "----------------------------------------\n",
      "Zestaw cech: ['Surface', 'Number_of_Rooms', 'Floor', 'Location_onehot']\n",
      "RMSE: 4918848.2176086195, R2: 0.708108055596752, MSE: 24195067787871.49\n",
      "Przykładowe przewidywania (faktyczna vs przewidywana cena):\n",
      "+------------------+------------------+\n",
      "|      actual_price|   predicted_price|\n",
      "+------------------+------------------+\n",
      "| 99000.00000000006|487496.57687131857|\n",
      "|117300.00000000009|137850.97119525043|\n",
      "|178999.99999999994| 418799.9989206817|\n",
      "|183000.00000000003|506359.57451210584|\n",
      "|185000.00000000006| 386332.5293912856|\n",
      "+------------------+------------------+\n",
      "only showing top 5 rows\n",
      "\n",
      "----------------------------------------\n",
      "Zestaw cech: ['Surface', 'Number_of_Rooms', 'Floor', 'Location_onehot', 'Voivodeship_onehot']\n",
      "RMSE: 4831068.218544415, R2: 0.7184330953324709, MSE: 23339220132229.906\n",
      "Przykładowe przewidywania (faktyczna vs przewidywana cena):\n",
      "+------------------+------------------+\n",
      "|      actual_price|   predicted_price|\n",
      "+------------------+------------------+\n",
      "| 99000.00000000006| 485860.9359271628|\n",
      "|117300.00000000009|136238.05400254228|\n",
      "|178999.99999999994| 377745.1099805257|\n",
      "|183000.00000000003| 456646.3476426056|\n",
      "|185000.00000000006|331117.63037985587|\n",
      "+------------------+------------------+\n",
      "only showing top 5 rows\n",
      "\n",
      "----------------------------------------\n",
      "Zestaw cech: ['Surface', 'Number_of_Rooms', 'Floor', 'Location_onehot', 'Voivodeship_onehot', 'City_onehot']\n",
      "RMSE: 4809383.518362122, R2: 0.7209551010857171, MSE: 23130169826693.223\n",
      "Przykładowe przewidywania (faktyczna vs przewidywana cena):\n",
      "+------------------+------------------+\n",
      "|      actual_price|   predicted_price|\n",
      "+------------------+------------------+\n",
      "| 99000.00000000006|485585.32847026264|\n",
      "|117300.00000000009|140491.66483103312|\n",
      "|178999.99999999994|301882.40867626586|\n",
      "|183000.00000000003|267801.89963514544|\n",
      "|185000.00000000006|319041.67707972194|\n",
      "+------------------+------------------+\n",
      "only showing top 5 rows\n",
      "\n",
      "----------------------------------------\n",
      "Zestaw cech: ['Surface', 'Number_of_Rooms', 'Floor', 'Location_onehot', 'Voivodeship_onehot', 'City_onehot', 'Condition_onehot']\n",
      "RMSE: 4786273.3500950355, R2: 0.7236304047449651, MSE: 22908412581829.953\n",
      "Przykładowe przewidywania (faktyczna vs przewidywana cena):\n",
      "+------------------+------------------+\n",
      "|      actual_price|   predicted_price|\n",
      "+------------------+------------------+\n",
      "| 99000.00000000006|446907.01758921175|\n",
      "|117300.00000000009|139264.27740973962|\n",
      "|178999.99999999994|291927.33562597574|\n",
      "|183000.00000000003| 267818.0472744665|\n",
      "|185000.00000000006|314680.99970122514|\n",
      "+------------------+------------------+\n",
      "only showing top 5 rows\n",
      "\n",
      "----------------------------------------\n"
     ]
    }
   ],
   "source": [
    "for result in results:\n",
    "    print(f\"Zestaw cech: {result['features']}\")\n",
    "    print(f\"RMSE: {result['RMSE']}, R2: {result['R2']}, MSE: {result['MSE']}\")\n",
    "    print(\"Przykładowe przewidywania (faktyczna vs przewidywana cena):\")\n",
    "    \n",
    "    sample_predictions = result[\"predictions\"].select(\"actual_price\", \"predicted_price\").show(5)\n",
    "    print(\"-\" * 40)"
   ]
  },
  {
   "cell_type": "code",
   "execution_count": null,
   "id": "a11f9797-03a3-4425-98dc-977204d3f61c",
   "metadata": {},
   "outputs": [],
   "source": []
  }
 ],
 "metadata": {
  "kernelspec": {
   "display_name": "Python 3 (ipykernel)",
   "language": "python",
   "name": "python3"
  },
  "language_info": {
   "codemirror_mode": {
    "name": "ipython",
    "version": 3
   },
   "file_extension": ".py",
   "mimetype": "text/x-python",
   "name": "python",
   "nbconvert_exporter": "python",
   "pygments_lexer": "ipython3",
   "version": "3.10.12"
  }
 },
 "nbformat": 4,
 "nbformat_minor": 5
}
